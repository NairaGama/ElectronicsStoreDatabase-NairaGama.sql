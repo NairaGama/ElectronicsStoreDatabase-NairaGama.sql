{
  "nbformat": 4,
  "nbformat_minor": 0,
  "metadata": {
    "colab": {
      "private_outputs": true,
      "provenance": [],
      "authorship_tag": "ABX9TyON+CNI/zgyZoMK/L8MFpsY",
      "include_colab_link": true
    },
    "kernelspec": {
      "name": "python3",
      "display_name": "Python 3"
    },
    "language_info": {
      "name": "python"
    }
  },
  "cells": [
    {
      "cell_type": "markdown",
      "metadata": {
        "id": "view-in-github",
        "colab_type": "text"
      },
      "source": [
        "<a href=\"https://colab.research.google.com/github/NairaGama/ElectronicsStoreDatabase-NairaGama.sql/blob/main/DashBD_Eletronicos.ipynb\" target=\"_parent\"><img src=\"https://colab.research.google.com/assets/colab-badge.svg\" alt=\"Open In Colab\"/></a>"
      ]
    },
    {
      "cell_type": "markdown",
      "source": [
        "###**Utilizando Banco de Dados da Loja de Eletrônicos para criar Dashboard**\n",
        "\n",
        "Foram analisadas as vendas do mês de Maio de 2023 disponível no banco de dados, possibilitando assim tomada de decisões.\n",
        "\n",
        "**Os dados utilizados são fictícios e apenas fins acadêmicos.**"
      ],
      "metadata": {
        "id": "4FVUjasHyk5E"
      }
    },
    {
      "cell_type": "code",
      "source": [
        "#Bibliotecas\n",
        "import sqlite3  #interação com o banco de dados\n",
        "import pandas as pd #manipulação dos dados"
      ],
      "metadata": {
        "id": "43L5bUJskgzg"
      },
      "execution_count": null,
      "outputs": []
    },
    {
      "cell_type": "code",
      "source": [
        "#Conectando banco\n",
        "conn = sqlite3.connect('loja_eletronicos.db')\n",
        "cursor = conn.cursor()"
      ],
      "metadata": {
        "id": "_q88I_EBkkWn"
      },
      "execution_count": null,
      "outputs": []
    },
    {
      "cell_type": "code",
      "source": [
        "#Apagando tabelas caso já existam\n",
        "cursor.execute(\"DROP TABLE IF EXISTS PRODUTO;\")\n",
        "cursor.execute(\"DROP TABLE IF EXISTS CATEGORIA;\")\n",
        "cursor.execute(\"DROP TABLE IF EXISTS FORNECEDOR;\")\n",
        "cursor.execute(\"DROP TABLE IF EXISTS CLIENTE;\")\n",
        "cursor.execute(\"DROP TABLE IF EXISTS CLIENTE_PF;\")\n",
        "cursor.execute(\"DROP TABLE IF EXISTS CLIENTE_PJ;\")\n",
        "cursor.execute(\"DROP TABLE IF EXISTS ENTRADAS;\")\n",
        "cursor.execute(\"DROP TABLE IF EXISTS SAIDAS;\")\n",
        "conn.commit()"
      ],
      "metadata": {
        "id": "4rXeUcbNoRoy"
      },
      "execution_count": null,
      "outputs": []
    },
    {
      "cell_type": "code",
      "execution_count": null,
      "metadata": {
        "id": "Hut-4VHKjERm"
      },
      "outputs": [],
      "source": [
        "sql = \"\"\"-- Criando tabelas do banco da loja de eletrônicos\n",
        "\n",
        "-- Tabela Produto\n",
        "CREATE TABLE PRODUTO(\n",
        "  Cod_produto INT NOT NULL,\n",
        "  Nome_produto VARCHAR(50) NOT NULL,\n",
        "  Cod_categoria INT NOT NULL,\n",
        "  Valor DECIMAL(10, 2) NOT NULL,\n",
        "  Quantidade_estoque INT NOT NULL DEFAULT 0,\n",
        "  Cod_fornecedor INT,\n",
        "  PRIMARY KEY (Cod_produto),\n",
        "  FOREIGN KEY (Cod_fornecedor) REFERENCES FORNECEDOR (Cod_fornecedor),\n",
        "  FOREIGN KEY (Cod_categoria) REFERENCES CATEGORIA (Cod_categoria)\n",
        ");\n",
        "\n",
        "-- Tabela Categoria\n",
        "CREATE TABLE CATEGORIA(\n",
        "  Cod_categoria INT NOT NULL,\n",
        "  Categoria VARCHAR(30) NOT NULL,\n",
        "  PRIMARY KEY(Cod_categoria)\n",
        ");\n",
        "\n",
        "-- Tabela Fornecedor\n",
        "CREATE TABLE FORNECEDOR(\n",
        "  Cod_fornecedor INT NOT NULL,\n",
        "  Nome_fornecedor VARCHAR(50) NOT NULL,\n",
        "  Telefone_fornecedor VARCHAR(15),\n",
        "  Cidade VARCHAR(30),\n",
        "  Estado VARCHAR(2),\n",
        "  PRIMARY KEY(Cod_fornecedor)\n",
        ");\n",
        "\n",
        "-- Tabela Cliente\n",
        "CREATE TABLE CLIENTE(\n",
        "  Cod_cliente INT NOT NULL,\n",
        "  Nome_cliente VARCHAR(50) NOT NULL,\n",
        "  Telefone_cliente VARCHAR(15),\n",
        "  PRIMARY KEY(Cod_cliente)\n",
        ");\n",
        "\n",
        "-- Tabela Cliente_PF (Pessoa Física)\n",
        "CREATE TABLE CLIENTE_PF(\n",
        "  Cod_cliente INT NOT NULL,\n",
        "  Cpf CHAR(11) UNIQUE,\n",
        "  PRIMARY KEY(Cpf),\n",
        "  FOREIGN KEY(Cod_cliente) REFERENCES CLIENTE(Cod_cliente)\n",
        ");\n",
        "\n",
        "-- Tabela Cliente_PJ (Pessoa Jurídica)\n",
        "CREATE TABLE CLIENTE_PJ(\n",
        "  Cod_cliente INT NOT NULL,\n",
        "  Cnpj CHAR(14) UNIQUE,\n",
        "  PRIMARY KEY(Cnpj),\n",
        "  FOREIGN KEY(Cod_cliente) REFERENCES CLIENTE(Cod_cliente)\n",
        ");\n",
        "\n",
        "-- Tabela Entradas\n",
        "CREATE TABLE ENTRADAS(\n",
        "  Cod_entrada INT NOT NULL,\n",
        "  Cod_produto INT NOT NULL,\n",
        "  Cod_fornecedor INT,\n",
        "  Quantidade INT,\n",
        "  Data_entrada DATE NOT NULL,\n",
        "  PRIMARY KEY(Cod_entrada),\n",
        "  FOREIGN KEY(Cod_produto) REFERENCES PRODUTO(Cod_produto),\n",
        "  FOREIGN KEY(Cod_fornecedor) REFERENCES FORNECEDOR(Cod_fornecedor)\n",
        ");\n",
        "\n",
        "-- Tabela Saídas\n",
        "CREATE TABLE SAIDAS(\n",
        "  Cod_saida INT NOT NULL,\n",
        "  Cod_produto INT NOT NULL,\n",
        "  Cod_cliente INT NOT NULL,\n",
        "  Quantidade INT,\n",
        "  Data_saida DATE,\n",
        "  PRIMARY KEY(Cod_saida),\n",
        "  FOREIGN KEY(Cod_cliente) REFERENCES CLIENTE(Cod_cliente),\n",
        "  FOREIGN KEY(Cod_produto) REFERENCES PRODUTO(Cod_produto)\n",
        ");\n",
        "\n",
        "-- Inserindo dados na tabela Categoria\n",
        "INSERT INTO CATEGORIA VALUES\n",
        "(1, 'Dispositivo móvel'),\n",
        "(2, 'Computadores'),\n",
        "(3, 'Acessórios'),\n",
        "(4, 'Televisor'),\n",
        "(5, 'Áudio'),\n",
        "(6, 'Jogos'),\n",
        "(7, 'Equipamento de Rede'),\n",
        "(8, 'Vídeo e fotografia');\n",
        "\n",
        "-- Inserindo dados na tabela Fornecedor\n",
        "INSERT INTO FORNECEDOR VALUES\n",
        "(1, 'ABC Acessórios', '989898989', 'Salvador', 'BA'),\n",
        "(2, 'ABC Informática', '998899889', 'Manaus', 'AM'),\n",
        "(3, 'JL Eletrônicos', '987987987', 'Salvador', 'BA'),\n",
        "(4, 'Lima Eletrônicos', '889988998', 'Curitiba', 'PR'),\n",
        "(5, 'Casa da Informática', '999997777', 'Curitiba', 'PR');\n",
        "\n",
        "-- Inserindo dados na tabela Produto\n",
        "INSERT INTO PRODUTO VALUES\n",
        "(1, 'Smartphone', 1, 1500.00, 50, 2),\n",
        "(2, 'Notebook', 2, 3900.00, 25, 5),\n",
        "(3, 'Tablet', 1, 810.00, 30, 3),\n",
        "(4, 'Mouse', 3, 30.99, 73, 1),\n",
        "(5, 'Teclado', 3, 45.50, 69, 1),\n",
        "(6, 'Desktop', 2, 2350.00, 5, 5),\n",
        "(7, 'Cabo USB', 3, 25.50, 12, 1),\n",
        "(8, 'Webcam', 3, 190.00, 3, 1),\n",
        "(9, 'SmartTV', 4, 3600.00, 15, 3),\n",
        "(10, 'Smartwatch', 1, 454.99, 20, 4),\n",
        "(11, 'Fone', 5, 99.90, 18, 4),\n",
        "(12, 'Videogame', 6, 3670.00, 2, 2),\n",
        "(13, 'Caixa de som', 5, 385.00, 10, 2),\n",
        "(14, 'Roteador', 7, 270.90, 4, 2),\n",
        "(15, 'Câmera Digital', 8, 245.89, 2, 2);\n",
        "\n",
        "-- Inserindo dados na tabela Cliente\n",
        "INSERT INTO CLIENTE VALUES\n",
        "(1, 'Carolina Silva', '999999999'),\n",
        "(2, 'Marcos da Silva', '888999777'),\n",
        "(3, 'José Batista', '889977665'),\n",
        "(4, 'Mariana Galvão', '999900008'),\n",
        "(5, 'Murilo Moreira', '992233445'),\n",
        "(6, 'X Gamer', '556677889'),\n",
        "(7, 'Eletrônicos e Acessórios', '977777777'),\n",
        "(8, 'Silveira Eletrônicos', '988888888'),\n",
        "(9, 'Ferreira Informática', '888888888'),\n",
        "(10, 'Souza Dispositivos', '995555555');\n",
        "\n",
        "-- Inserindo dados na tabela Cliente_PF\n",
        "INSERT INTO CLIENTE_PF VALUES\n",
        "(1, '90000000009'),\n",
        "(2, '87787787787'),\n",
        "(3, '99999999999'),\n",
        "(4, '88888888888'),\n",
        "(5, '77777777777');\n",
        "\n",
        "-- Inserindo dados na tabela Cliente_PJ\n",
        "INSERT INTO CLIENTE_PJ VALUES\n",
        "(6, '80008000800080'),\n",
        "(7, '70007000700070'),\n",
        "(8, '55555555555555'),\n",
        "(9, '12341234123123'),\n",
        "(10, '88008800880088');\n",
        "\n",
        "-- Inserindo dados na tabela Entradas\n",
        "INSERT INTO ENTRADAS VALUES\n",
        "(1, 15, 2, 10, '2023-05-10'),\n",
        "(2, 4, 1, 10, '2023-05-04'),\n",
        "(3, 12, 2, 5, '2023-05-10'),\n",
        "(4, 1, 2, 8, '2023-05-18'),\n",
        "(5, 2, 5, 20, '2023-05-18'),\n",
        "(6, 9, 2, 12, '2023-05-18'),\n",
        "(7, 14, 1, 5, '2023-05-04'),\n",
        "(8, 10, 4, 5, '2023-05-21'),\n",
        "(9, 3, 3, 25, '2023-05-30'),\n",
        "(10, 5, 1, 15, '2023-05-06');\n",
        "\n",
        "-- Inserindo dados na tabela Saídas\n",
        "INSERT INTO SAIDAS VALUES\n",
        "(1, 5, 4, 1, '2023-05-01'),\n",
        "(2, 1, 5, 1, '2023-05-01'),\n",
        "(3, 8, 6, 2, '2023-05-01'),\n",
        "(4, 12, 10, 1, '2023-05-03'),\n",
        "(5, 6, 7, 1, '2023-05-03'),\n",
        "(6, 4, 1, 3, '2023-05-10'),\n",
        "(7, 4, 3, 2, '2023-05-04'),\n",
        "(8, 3, 2, 1, '2023-05-04'),\n",
        "(9, 7, 5, 2, '2023-05-18'),\n",
        "(10, 7, 4, 1, '2023-05-18'),\n",
        "(11, 5, 9, 2, '2023-05-26'),\n",
        "(12, 1, 8, 2, '2023-05-21'),\n",
        "(13, 1, 7, 1, '2023-05-07'),\n",
        "(14, 2, 6, 1, '2023-05-07'),\n",
        "(15, 2, 2, 1, '2023-05-15');\n",
        "\n",
        "-- Consultas simples para verificar dados\n",
        "SELECT * FROM PRODUTO;\n",
        "SELECT * FROM CATEGORIA;\n",
        "SELECT * FROM FORNECEDOR;\n",
        "SELECT * FROM CLIENTE;\n",
        "SELECT * FROM CLIENTE_PF;\n",
        "SELECT * FROM CLIENTE_PJ;\n",
        "SELECT * FROM ENTRADAS;\n",
        "SELECT * FROM SAIDAS;\n",
        "\n",
        "-- Consultas mais complexas\n",
        "\n",
        "/* JOIN para unir os produtos e seus fornecedores */\n",
        "SELECT P.Nome_produto, E.Quantidade, F.Nome_fornecedor\n",
        "FROM ENTRADAS E\n",
        "JOIN PRODUTO P ON E.Cod_produto = P.Cod_produto\n",
        "JOIN FORNECEDOR F ON E.Cod_fornecedor = F.Cod_fornecedor;\n",
        "\n",
        "/* SUM, MAX, MIN e AVG para calcular estatísticas dos preços */\n",
        "SELECT SUM(Valor) AS Soma, MAX(Valor) AS Maximo, MIN(Valor) AS Minimo, AVG(Valor) AS Media\n",
        "FROM PRODUTO;\n",
        "\n",
        "/* COUNT para contar o número de clientes PF */\n",
        "SELECT COUNT(*) AS TotalClientesPF\n",
        "FROM CLIENTE_PF;\n",
        "\n",
        "/* GROUP BY e HAVING para produtos com valor maior que 1800 */\n",
        "SELECT P.Nome_produto, Valor\n",
        "FROM PRODUTO P\n",
        "GROUP BY P.Nome_produto, Valor\n",
        "HAVING Valor >= 1800;\n",
        "\n",
        "/* WHERE e LIKE para fornecedores do estado BA */\n",
        "SELECT Nome_fornecedor, Cidade\n",
        "FROM FORNECEDOR\n",
        "WHERE Estado LIKE '%BA';\n",
        "\n",
        "/* Consulta envolvendo múltiplas tabelas para vendas */\n",
        "SELECT C.Nome_cliente, P.Nome_produto, S.Quantidade, S.Data_saida\n",
        "FROM SAIDAS S\n",
        "JOIN CLIENTE C ON S.Cod_cliente = C.Cod_cliente\n",
        "JOIN PRODUTO P ON S.Cod_produto = P.Cod_produto;\"\"\""
      ]
    },
    {
      "cell_type": "code",
      "source": [
        "#Salvando\n",
        "with open (\"loja_eletronicos\", \"w\") as arquivo:\n",
        "  arquivo.write(sql)"
      ],
      "metadata": {
        "id": "Yl1G079NjbHx"
      },
      "execution_count": null,
      "outputs": []
    },
    {
      "cell_type": "code",
      "source": [
        "#Executando o script\n",
        "cursor.executescript(sql)\n",
        "conn.commit()"
      ],
      "metadata": {
        "id": "zXkItZ3Vk4yP"
      },
      "execution_count": null,
      "outputs": []
    },
    {
      "cell_type": "code",
      "source": [
        "tabelas = ['PRODUTO', 'CATEGORIA', 'FORNECEDOR', 'CLIENTE', 'CLIENTE_PF', 'CLIENTE_PJ', 'ENTRADAS', 'SAIDAS']"
      ],
      "metadata": {
        "id": "IvnYbOLzprBf"
      },
      "execution_count": null,
      "outputs": []
    },
    {
      "cell_type": "markdown",
      "source": [
        "####**Exibindo tabelas e realizando limpeza necessária**"
      ],
      "metadata": {
        "id": "LNeL_sc64JUR"
      }
    },
    {
      "cell_type": "markdown",
      "source": [
        "**Tabela Produto**"
      ],
      "metadata": {
        "id": "2RIW_P_k4UtQ"
      }
    },
    {
      "cell_type": "code",
      "source": [
        "#Exibindo tabela PRODUTO\n",
        "df_produto = pd.read_sql_query(\"SELECT * FROM PRODUTO\", conn)\n",
        "display(df_produto)"
      ],
      "metadata": {
        "id": "k8QY-651rMyo"
      },
      "execution_count": null,
      "outputs": []
    },
    {
      "cell_type": "code",
      "source": [
        "#Verificando a tabela PRODUTO\n",
        "df_produto.info()"
      ],
      "metadata": {
        "id": "jJUkrPoH1t3p"
      },
      "execution_count": null,
      "outputs": []
    },
    {
      "cell_type": "code",
      "source": [
        "#Verificando valores nulos\n",
        "print(df_produto.isnull().sum())"
      ],
      "metadata": {
        "id": "3Jg2xNSubC-m"
      },
      "execution_count": null,
      "outputs": []
    },
    {
      "cell_type": "code",
      "source": [
        "#Verificando duplicatas\n",
        "print(df_produto.duplicated().sum())"
      ],
      "metadata": {
        "id": "GsweYIUVbSLV"
      },
      "execution_count": null,
      "outputs": []
    },
    {
      "cell_type": "code",
      "source": [
        "#Limpeza na Tabela Produto\n",
        "df_produto['Valor'] = df_produto['Valor'].astype(float)\n",
        "df_produto['Nome_produto'] = df_produto['Nome_produto'].str.strip().str.lower()\n",
        "df_produto['Quantidade_estoque'] = df_produto['Quantidade_estoque'].astype(int)\n",
        "df_produto['Valor'] = df_produto['Valor'].astype(float)\n",
        "df_produto.head()"
      ],
      "metadata": {
        "id": "wrjSHm_u3oOg"
      },
      "execution_count": null,
      "outputs": []
    },
    {
      "cell_type": "markdown",
      "source": [
        "**Tabela Categoria**"
      ],
      "metadata": {
        "id": "-cPVMzfP4Yd3"
      }
    },
    {
      "cell_type": "code",
      "source": [
        "#Exibindo tabela CATEGORIA\n",
        "df_categoria = pd.read_sql_query(\"SELECT * FROM CATEGORIA\", conn)\n",
        "display(df_categoria)"
      ],
      "metadata": {
        "id": "sCvysuwmtU15"
      },
      "execution_count": null,
      "outputs": []
    },
    {
      "cell_type": "code",
      "source": [
        "df_categoria.info()"
      ],
      "metadata": {
        "id": "WMdN2QeS2luK"
      },
      "execution_count": null,
      "outputs": []
    },
    {
      "cell_type": "code",
      "source": [
        "#Verificando valores nulos\n",
        "print(df_categoria.isnull().sum())"
      ],
      "metadata": {
        "id": "20UZMxrwdI4c"
      },
      "execution_count": null,
      "outputs": []
    },
    {
      "cell_type": "code",
      "source": [
        "#Verificando duplicatas\n",
        "print(df_categoria.duplicated().sum())"
      ],
      "metadata": {
        "id": "_Z38Zf42dPbc"
      },
      "execution_count": null,
      "outputs": []
    },
    {
      "cell_type": "code",
      "source": [
        "df_categoria['Categoria'] = df_categoria['Categoria'].str.strip().str.lower()\n",
        "df_categoria.head()"
      ],
      "metadata": {
        "id": "ViLJGC7D4bnp"
      },
      "execution_count": null,
      "outputs": []
    },
    {
      "cell_type": "markdown",
      "source": [
        "**Tabela Fornecedor**"
      ],
      "metadata": {
        "id": "bLXxtT0a49RQ"
      }
    },
    {
      "cell_type": "code",
      "source": [
        "#Exibindo tabela FORNECEDOR\n",
        "df_fornecedor = pd.read_sql_query(\"SELECT * FROM FORNECEDOR\", conn)\n",
        "display(df_fornecedor)"
      ],
      "metadata": {
        "id": "dkvH-noTtkVj"
      },
      "execution_count": null,
      "outputs": []
    },
    {
      "cell_type": "code",
      "source": [
        "df_fornecedor.info()"
      ],
      "metadata": {
        "id": "0CrrV_yd2_dv"
      },
      "execution_count": null,
      "outputs": []
    },
    {
      "cell_type": "code",
      "source": [
        "#Verificando valores nulos\n",
        "print(df_fornecedor.isnull().sum())"
      ],
      "metadata": {
        "id": "cP0AjRMwddyt"
      },
      "execution_count": null,
      "outputs": []
    },
    {
      "cell_type": "code",
      "source": [
        "#verificando duplicatas\n",
        "print(df_fornecedor.duplicated().sum())"
      ],
      "metadata": {
        "id": "RFMzQexqddvc"
      },
      "execution_count": null,
      "outputs": []
    },
    {
      "cell_type": "code",
      "source": [
        "df_fornecedor['Nome_fornecedor'] = df_fornecedor['Nome_fornecedor'].str.strip().str.lower()\n",
        "df_fornecedor['Cidade'] = df_fornecedor['Cidade'].str.strip().str.lower()\n",
        "df_fornecedor['Estado'] = df_fornecedor['Estado'].str.strip().str.upper()\n",
        "df_fornecedor"
      ],
      "metadata": {
        "id": "dqr2n2i_5ORQ"
      },
      "execution_count": null,
      "outputs": []
    },
    {
      "cell_type": "markdown",
      "source": [
        "**Tabela Cliente**"
      ],
      "metadata": {
        "id": "rRbB2oy75vp4"
      }
    },
    {
      "cell_type": "code",
      "source": [
        "#Exibindo tabela CLIENTE\n",
        "df_cliente = pd.read_sql_query(\"SELECT * FROM CLIENTE\", conn)\n",
        "display(df_cliente)"
      ],
      "metadata": {
        "id": "_fSGiDe8tpbe"
      },
      "execution_count": null,
      "outputs": []
    },
    {
      "cell_type": "code",
      "source": [
        "df_cliente.info()"
      ],
      "metadata": {
        "id": "-ggZhDIN3GZ3"
      },
      "execution_count": null,
      "outputs": []
    },
    {
      "cell_type": "code",
      "source": [
        "#verificando valors nulos\n",
        "print(df_cliente.isnull().sum())"
      ],
      "metadata": {
        "id": "sjdMHxTCdyR9"
      },
      "execution_count": null,
      "outputs": []
    },
    {
      "cell_type": "code",
      "source": [
        "#Verificando duplicatas\n",
        "print(df_cliente.duplicated().sum())"
      ],
      "metadata": {
        "id": "qHYllcmWd-JU"
      },
      "execution_count": null,
      "outputs": []
    },
    {
      "cell_type": "code",
      "source": [
        "df_cliente['Nome_cliente'] = df_cliente['Nome_cliente'].str.strip().str.lower().str.title()\n",
        "df_cliente.head()"
      ],
      "metadata": {
        "id": "Sm_0uQ6R5098"
      },
      "execution_count": null,
      "outputs": []
    },
    {
      "cell_type": "markdown",
      "source": [
        "**Tabela Cliente PF**"
      ],
      "metadata": {
        "id": "Sd3r53557NC4"
      }
    },
    {
      "cell_type": "code",
      "source": [
        "#Exibindo tabela CLIENTE_PF\n",
        "df_cliente_pf = pd.read_sql_query(\"SELECT * FROM CLIENTE_PF\", conn)\n",
        "display(df_cliente_pf)"
      ],
      "metadata": {
        "id": "SZxXwk4Ytxpf"
      },
      "execution_count": null,
      "outputs": []
    },
    {
      "cell_type": "code",
      "source": [
        "df_cliente_pf.info()"
      ],
      "metadata": {
        "id": "MjLEoRkN3JfP"
      },
      "execution_count": null,
      "outputs": []
    },
    {
      "cell_type": "code",
      "source": [
        "#Verificando valores nulos\n",
        "print(df_cliente_pf.isnull().sum())"
      ],
      "metadata": {
        "id": "hLrKiTQieEHs"
      },
      "execution_count": null,
      "outputs": []
    },
    {
      "cell_type": "code",
      "source": [
        "#Verificando duplicatas\n",
        "print(df_cliente_pf.duplicated().sum())"
      ],
      "metadata": {
        "id": "OW4dKzKCeJ6m"
      },
      "execution_count": null,
      "outputs": []
    },
    {
      "cell_type": "code",
      "source": [
        "df_cliente_pf['Cpf'] = df_cliente_pf['Cpf'].astype(str).str.strip()\n",
        "df_cliente_pf"
      ],
      "metadata": {
        "id": "Vf_gpua166dP"
      },
      "execution_count": null,
      "outputs": []
    },
    {
      "cell_type": "markdown",
      "source": [
        "**Tabela Cliente PJ**"
      ],
      "metadata": {
        "id": "j-EfxcF97SJ4"
      }
    },
    {
      "cell_type": "code",
      "source": [
        "#Exibindo tabela CLIENTE_PJ\n",
        "df_cliente_pj = pd.read_sql_query(\"SELECT * FROM CLIENTE_PJ\", conn)\n",
        "display(df_cliente_pj)"
      ],
      "metadata": {
        "id": "J8E_IF0Mt553"
      },
      "execution_count": null,
      "outputs": []
    },
    {
      "cell_type": "code",
      "source": [
        "df_cliente_pj.info()"
      ],
      "metadata": {
        "id": "LcxAPL9d3Nre"
      },
      "execution_count": null,
      "outputs": []
    },
    {
      "cell_type": "code",
      "source": [
        "#Verificando valore nulos\n",
        "print(df_cliente_pj.isnull().sum())"
      ],
      "metadata": {
        "id": "irnwINLcecVi"
      },
      "execution_count": null,
      "outputs": []
    },
    {
      "cell_type": "code",
      "source": [
        "#Verificando duplicatas\n",
        "print(df_cliente_pj.duplicated().sum())"
      ],
      "metadata": {
        "id": "CctMDLGvecOt"
      },
      "execution_count": null,
      "outputs": []
    },
    {
      "cell_type": "code",
      "source": [
        "df_cliente_pj['Cnpj'] = df_cliente_pj['Cnpj'].astype(str).str.strip()\n",
        "df_cliente_pj"
      ],
      "metadata": {
        "id": "YC7lpAfq7YYp"
      },
      "execution_count": null,
      "outputs": []
    },
    {
      "cell_type": "markdown",
      "source": [
        "**Tabela Entradas**"
      ],
      "metadata": {
        "id": "nWsq6PuX7rig"
      }
    },
    {
      "cell_type": "code",
      "source": [
        "#Exibindo tabela ENTRADAS\n",
        "df_entradas = pd.read_sql_query(\"SELECT * FROM ENTRADAS\", conn)\n",
        "display(df_entradas)"
      ],
      "metadata": {
        "id": "7ckOvfpPuB5R"
      },
      "execution_count": null,
      "outputs": []
    },
    {
      "cell_type": "code",
      "source": [
        "df_entradas.info()"
      ],
      "metadata": {
        "id": "bkOsigEG3Q2n"
      },
      "execution_count": null,
      "outputs": []
    },
    {
      "cell_type": "code",
      "source": [
        "#Verificando valores nulos\n",
        "print(df_entradas.isnull().sum())"
      ],
      "metadata": {
        "id": "fAyjsDDpetlV"
      },
      "execution_count": null,
      "outputs": []
    },
    {
      "cell_type": "code",
      "source": [
        "#verificando duplicatas\n",
        "print(df_entradas.duplicated().sum())"
      ],
      "metadata": {
        "id": "wVOtE9VqetiF"
      },
      "execution_count": null,
      "outputs": []
    },
    {
      "cell_type": "code",
      "source": [
        "df_entradas['Data_entrada'] = pd.to_datetime(df_entradas['Data_entrada'], format='%Y-%m-%d')\n",
        "df_entradas[\"Quantidade\"] = df_entradas[\"Quantidade\"].astype(int)\n",
        "df_entradas"
      ],
      "metadata": {
        "id": "7jIvfLxr9onN"
      },
      "execution_count": null,
      "outputs": []
    },
    {
      "cell_type": "markdown",
      "source": [
        "**Tabela Saídas**"
      ],
      "metadata": {
        "id": "qYMmGMxB-cnh"
      }
    },
    {
      "cell_type": "code",
      "source": [
        "#Exibindo tabela SAIDAS\n",
        "df_saidas = pd.read_sql_query(\"SELECT * FROM SAIDAS\", conn)\n",
        "display(df_saidas)"
      ],
      "metadata": {
        "id": "fktx4KG9uHyo"
      },
      "execution_count": null,
      "outputs": []
    },
    {
      "cell_type": "code",
      "source": [
        "df_saidas.info()"
      ],
      "metadata": {
        "id": "Cff3AJya3UHH"
      },
      "execution_count": null,
      "outputs": []
    },
    {
      "cell_type": "code",
      "source": [
        "#Verificando valore nulos\n",
        "print(df_saidas.isnull().sum())"
      ],
      "metadata": {
        "id": "tAMVoiXYe3p7"
      },
      "execution_count": null,
      "outputs": []
    },
    {
      "cell_type": "code",
      "source": [
        "#Verificando duplicatas\n",
        "print(df_saidas.duplicated().sum())"
      ],
      "metadata": {
        "id": "eDz6Jw7te3nE"
      },
      "execution_count": null,
      "outputs": []
    },
    {
      "cell_type": "code",
      "source": [
        "df_saidas['Data_saida'] = pd.to_datetime(df_saidas['Data_saida'], format='%Y-%m-%d')\n",
        "df_saidas[\"Quantidade\"] = df_saidas[\"Quantidade\"].astype(int)\n",
        "df_saidas"
      ],
      "metadata": {
        "id": "-Hc-0QhK-qLB"
      },
      "execution_count": null,
      "outputs": []
    },
    {
      "cell_type": "code",
      "source": [
        "import numpy as np\n",
        "import matplotlib.pyplot as plt\n",
        "import plotly.express as px\n",
        "import seaborn as sns\n",
        "import plotly.graph_objects as go\n",
        "\n",
        "from sklearn.preprocessing import StandardScaler"
      ],
      "metadata": {
        "id": "2bkeU_XPEj_6"
      },
      "execution_count": null,
      "outputs": []
    },
    {
      "cell_type": "code",
      "source": [
        "#Unindo tabelas\n",
        "df_vendas = df_saidas.merge(df_produto, on='Cod_produto', how='left')\n",
        "df_vendas = df_vendas.merge(df_cliente, on='Cod_cliente', how='left')"
      ],
      "metadata": {
        "id": "PrFvESkKjSxV"
      },
      "execution_count": null,
      "outputs": []
    },
    {
      "cell_type": "code",
      "source": [
        "print(df_vendas.info())"
      ],
      "metadata": {
        "id": "S0STZSZZkIYl"
      },
      "execution_count": null,
      "outputs": []
    },
    {
      "cell_type": "code",
      "source": [
        "#Verificando valore nulos\n",
        "print(df_vendas.isnull().sum())"
      ],
      "metadata": {
        "id": "R9Pq2LI-kv6_"
      },
      "execution_count": null,
      "outputs": []
    },
    {
      "cell_type": "code",
      "source": [
        "df_vendas.describe()"
      ],
      "metadata": {
        "id": "i7ozi82ik3x4"
      },
      "execution_count": null,
      "outputs": []
    },
    {
      "cell_type": "code",
      "source": [
        "#Vendas de cada produto\n",
        "vendas_produto = df_vendas.groupby('Nome_produto')['Quantidade'].sum().reset_index()\n",
        "vendas_produto"
      ],
      "metadata": {
        "id": "dOkwWn5NlJ4G"
      },
      "execution_count": null,
      "outputs": []
    },
    {
      "cell_type": "code",
      "source": [
        "#vendas por Cliente\n",
        "vendas_cliente = df_vendas.groupby('Nome_cliente')['Quantidade'].sum().reset_index()\n",
        "vendas_cliente"
      ],
      "metadata": {
        "id": "BnGAIY2zloOk"
      },
      "execution_count": null,
      "outputs": []
    },
    {
      "cell_type": "markdown",
      "source": [
        "###**Gráficos**"
      ],
      "metadata": {
        "id": "FdSeje_vr31E"
      }
    },
    {
      "cell_type": "code",
      "source": [
        "mais_vendidos = vendas_produto.sort_values(by='Quantidade', ascending=False).head(5)"
      ],
      "metadata": {
        "id": "nVa7wtvXucbH"
      },
      "execution_count": null,
      "outputs": []
    },
    {
      "cell_type": "code",
      "source": [
        "#Gráfico de barras com os 5 produtos mais vendidos\n",
        "fig = px.bar(mais_vendidos,\n",
        "             x='Nome_produto',\n",
        "             y='Quantidade',\n",
        "             title='5 Produtos Mais Vendidos em Maio',\n",
        "             color = 'Nome_produto',\n",
        "             color_discrete_sequence=['#001848'])\n",
        "\n",
        "fig.update_layout(xaxis_title='Produto',\n",
        "                  yaxis_title='Quantidade Vendida')\n",
        "fig.show()"
      ],
      "metadata": {
        "id": "iuVDEGAbtb_-"
      },
      "execution_count": null,
      "outputs": []
    },
    {
      "cell_type": "code",
      "source": [
        "#Gráfico das vendas durante o mês de maio\n",
        "vendas_mes = df_vendas.groupby('Data_saida')['Quantidade'].sum().reset_index()\n",
        "vendas_mes['Data_saida'] = pd.to_datetime(vendas_mes['Data_saida'])\n",
        "vendas_mes = vendas_mes.sort_values('Data_saida')\n",
        "\n",
        "fig = px.line(vendas_mes,\n",
        "              x='Data_saida',\n",
        "              y='Quantidade',\n",
        "              title='Vendas durante o mês de Maio',\n",
        "              markers='o',\n",
        "              color_discrete_sequence=['#001848'])\n",
        "\n",
        "fig.update_layout(xaxis_title='Data',\n",
        "                  yaxis_title='Quantidade Vendida',\n",
        "                  title_font_size=20,\n",
        "                  font=dict(size=12))\n",
        "fig.show()"
      ],
      "metadata": {
        "id": "sow8EAi4l2V-"
      },
      "execution_count": null,
      "outputs": []
    },
    {
      "cell_type": "code",
      "source": [
        "df_vendas['Total_Vendas'] = df_vendas['Quantidade'] * df_vendas['Valor']\n",
        "total = df_vendas['Total_Vendas'].sum()\n",
        "\n",
        "fig = go.Figure(go.Indicator(\n",
        "    mode = \"number\",\n",
        "    value = total,\n",
        "    title = {\"text\": \"Total vendido em Maio/2023\"},\n",
        "    number={\"prefix\": \"R$\", \"valueformat\": \",.2f\",\"font\":{\"size\":50}}))\n",
        "\n",
        "fig.update_layout(\n",
        "    height=250,\n",
        "    width=400,\n",
        "    paper_bgcolor=\"LightSteelBlue\",\n",
        "    margin=dict(t=40, b=0, l=0, r=0)\n",
        ")\n",
        "fig.show()"
      ],
      "metadata": {
        "id": "PobPVcjG1jSf"
      },
      "execution_count": null,
      "outputs": []
    },
    {
      "cell_type": "code",
      "source": [
        "#Total de Clientes atendidos\n",
        "clientes_atendidos = df_vendas['Cod_cliente'].nunique()\n",
        "\n",
        "fig = go.Figure(go.Indicator(\n",
        "    mode = \"number\",\n",
        "    value = clientes_atendidos,\n",
        "    title = {\"text\": \"Clientes atendidos\"},\n",
        "    number={\"font\":{\"size\":50}}))\n",
        "\n",
        "fig.update_layout(\n",
        "    height=250,\n",
        "    width=400,\n",
        "    paper_bgcolor=\"LightSteelBlue\",\n",
        "    margin=dict(t=40, b=0, l=0, r=0)\n",
        ")\n",
        "fig.show()"
      ],
      "metadata": {
        "id": "5g1q46Z6Uwnb"
      },
      "execution_count": null,
      "outputs": []
    },
    {
      "cell_type": "code",
      "source": [
        "#Estoque atual\n",
        "estoque_atual = df_produto['Quantidade_estoque'].sum()\n",
        "\n",
        "fig = go.Figure(go.Indicator(\n",
        "    mode = \"number\",\n",
        "    value = estoque_atual,\n",
        "    title = {\"text\": \"Estoque atual\"},\n",
        "    number={\"font\":{\"size\":50}}))\n",
        "\n",
        "fig.update_layout(\n",
        "    height=250,\n",
        "    width=400,\n",
        "    paper_bgcolor=\"LightSteelBlue\",\n",
        "    margin=dict(t=40, b=0, l=0, r=0)\n",
        ")\n",
        "fig.show()"
      ],
      "metadata": {
        "id": "dqZlMy5KVKyi"
      },
      "execution_count": null,
      "outputs": []
    },
    {
      "cell_type": "code",
      "source": [
        "#Unindo tabelas\n",
        "df_produto_categoria = df_produto.merge(df_categoria, on='Cod_categoria', how='left')\n",
        "df_vendas_categoria = df_saidas.merge(df_produto_categoria, on='Cod_produto', how='left')"
      ],
      "metadata": {
        "id": "Ujkqz1t3l2NP"
      },
      "execution_count": null,
      "outputs": []
    },
    {
      "cell_type": "code",
      "source": [
        "df_vendas_categoria['Valor_Total'] = df_vendas_categoria['Quantidade'] * df_vendas_categoria['Valor']\n",
        "vendas_categoria = df_vendas_categoria.groupby('Categoria')['Valor_Total'].sum().reset_index().sort_values(by='Valor_Total', ascending=False)"
      ],
      "metadata": {
        "id": "0IJoo0FiE3Yg"
      },
      "execution_count": null,
      "outputs": []
    },
    {
      "cell_type": "code",
      "source": [
        "fig = px.bar(vendas_categoria,\n",
        "             x='Categoria',\n",
        "             y='Valor_Total',\n",
        "             title='Vendas por Categoria',\n",
        "             color='Categoria',\n",
        "             color_discrete_sequence=['#001848'])\n",
        "\n",
        "fig.update_layout(xaxis_title='Categoria',\n",
        "                  yaxis_title='Valor Total',\n",
        "                  showlegend=False)\n",
        "fig.show()"
      ],
      "metadata": {
        "id": "4dQYzyHWF2WT"
      },
      "execution_count": null,
      "outputs": []
    },
    {
      "cell_type": "code",
      "source": [
        "df_vendas['Tipo_cliente'] = df_vendas['Cod_cliente'].apply(lambda x: 'PF' if x in df_cliente_pf['Cod_cliente'].values else 'PJ')\n",
        "tipo_cliente = df_vendas['Tipo_cliente'].value_counts().rename_axis('Tipo').reset_index(name='Quantidade')\n",
        "\n",
        "fig = px.bar(tipo_cliente,\n",
        "             x='Quantidade',\n",
        "             y='Tipo',\n",
        "             orientation='h',\n",
        "             color='Tipo',\n",
        "             title='Tipo de Cliente',\n",
        "             color_discrete_sequence=['#001848'])\n",
        "\n",
        "fig.update_layout(xaxis_title='Quantidade',\n",
        "                  yaxis_title='Tipo',\n",
        "                  showlegend=False)\n",
        "\n",
        "fig.show()"
      ],
      "metadata": {
        "id": "SkGvk3RDQa_y"
      },
      "execution_count": null,
      "outputs": []
    },
    {
      "cell_type": "code",
      "source": [
        "!pip install dash pandas plotly"
      ],
      "metadata": {
        "id": "sCut9rlfX0Qt"
      },
      "execution_count": null,
      "outputs": []
    },
    {
      "cell_type": "code",
      "source": [
        "import dash\n",
        "from dash import dcc, html\n",
        "import pandas as pd\n",
        "import plotly.graph_objects as go\n",
        "import plotly.express as px\n"
      ],
      "metadata": {
        "id": "4BEPtEvTX4sy"
      },
      "execution_count": null,
      "outputs": []
    },
    {
      "cell_type": "code",
      "source": [
        "#Construção do Dashboard\n",
        "\n",
        "#Total vendido em R$ no mês de Maio\n",
        "vendas = go.Figure(go.Indicator(mode='number', value=total, title={'text': 'Total vendido', 'font':{'size': 15}},\n",
        "                                number={'prefix': 'R$', 'valueformat': ',.2f', 'font': {'size': 35}}))\n",
        "vendas.update_layout(height=100, width=250, paper_bgcolor='#B0C4DE')\n",
        "\n",
        "#Quantidade atual no estoque da loja\n",
        "estoque = go.Figure(go.Indicator(mode='number', value=estoque_atual, title={'text': 'Estoque', 'font':{'size': 15}},\n",
        "                                 number={'font': {'size': 35}}))\n",
        "estoque.update_layout(height=100, width=250, paper_bgcolor='#B0C4DE')\n",
        "\n",
        "#Clientes atendidos no mês\n",
        "clientes = go.Figure(go.Indicator(mode='number', value=clientes_atendidos, title={'text':'Clientes atendidos', 'font':{'size':15}},\n",
        "                                  number={'font': {'size': 35}}))\n",
        "clientes.update_layout(height=100, width=250, paper_bgcolor='#B0C4DE')\n",
        "\n",
        "#Gráficos\n",
        "\n",
        "#Gráfico 1 - 5 produtos mais vendidos na loja\n",
        "mais_vendidos_df = vendas_produto.sort_values(by='Quantidade', ascending=False).head(5).reset_index()\n",
        "mais_vendidos = px.bar(mais_vendidos_df, x='Nome_produto', y='Quantidade',\n",
        "                                color='Nome_produto', color_discrete_sequence=['#001848'],)\n",
        "mais_vendidos.update_layout(title={'text': '5 Produtos Mais Vendidos', 'x': 0.5, 'xanchor': 'center', 'font':{'size':20, 'color': '#001848'}\n",
        "                                   },xaxis_title='Produto', yaxis_title='Quantidade Vendida', showlegend=False)\n",
        "\n",
        "#Gráfico 2 - Quantidade de vendas durante o mês\n",
        "vendas_mes_df = df_vendas.groupby('Data_saida')['Quantidade'].sum().reset_index()\n",
        "vendas_mes_df['Data_saida'] = pd.to_datetime(vendas_mes_df['Data_saida'])\n",
        "vendas_mes_df = vendas_mes_df.sort_values('Data_saida')\n",
        "vendas_mes = px.line(vendas_mes_df, x='Data_saida', y='Quantidade',\n",
        "                             markers='o', color_discrete_sequence=['#001848'])\n",
        "vendas_mes.update_layout(title={'text': 'Vendas durante o mês', 'x': 0.5, 'xanchor': 'center', 'font':{'size':20, 'color': '#001848'}\n",
        "                                }, xaxis_title='Data', yaxis_title='Quantidade Vendida', title_font_size=20)\n",
        "\n",
        "#Gráfico 3 - Vendas por Categoria\n",
        "vendas_categoria_df = df_vendas_categoria.groupby('Categoria')['Valor_Total'].sum().reset_index().sort_values(by='Valor_Total', ascending=False)\n",
        "vendas_categoria = px.bar(vendas_categoria_df, x='Categoria', y='Valor_Total',\n",
        "                                  color='Categoria', color_discrete_sequence=['#001848'])\n",
        "vendas_categoria.update_layout(title={'text': 'Vendas por Categoria', 'x': 0.5, 'xanchor': 'center', 'font':{'size':20, 'color': '#001848'}\n",
        "                                      }, xaxis_title='Categoria', yaxis_title='Valor Total', showlegend=False)\n",
        "\n",
        "#Gráfico 4 - Cliente PF e Cliente PJ\n",
        "tipo_cliente_df = df_vendas['Tipo_cliente'].value_counts().rename_axis('Tipo').reset_index(name='Quantidade')\n",
        "tipo_cliente = px.bar(tipo_cliente_df, x='Quantidade', y='Tipo', orientation='h',\n",
        "                              color='Tipo', color_discrete_sequence=['#001848'])\n",
        "tipo_cliente.update_layout(title={'text': 'Cliente', 'x':0.5, 'xanchor': 'center', 'font':{'size':20, 'color': '#001848'}\n",
        "                                  }, xaxis_title='Quantidade', yaxis_title='Tipo', showlegend=False)\n",
        "\n",
        "#App\n",
        "app = dash.Dash(__name__)\n",
        "app.layout = html.Div(style={'backgroundColor': '#DCDCDC', 'padding': '40px'}, children=[\n",
        "    html.H1(\"Análise das Vendas em Maio\", style={'textAlign': 'center','color':'#001848'}),\n",
        "\n",
        "    html.Div(style={'display': 'flex', 'justifyContent': 'center', 'flexWrap': 'wrap', 'gap': '20px'}, children=[\n",
        "        html.Div(style={\n",
        "            'backgroundColor': 'rgba(255, 255, 255, 0.01)',\n",
        "            'borderRadius':'20px',\n",
        "            'padding': '10px',\n",
        "            'boxShadow': '0px 4px 8px rgba(0, 0, 0, 0.1)',\n",
        "            'flex': '1 1 300px',\n",
        "            'height': '100px',\n",
        "            'minWidth': '150px',\n",
        "            'maxWidth': '250px'\n",
        "        }, children=[\n",
        "            dcc.Graph(figure=vendas, config={'displayModeBar': False}, style={'height': '100%'})\n",
        "        ]),\n",
        "\n",
        "        html.Div(style={\n",
        "            'backgroundColor': 'rgba(255, 255, 255, 0.01)',\n",
        "            'borderRadius':'20px',\n",
        "            'padding': '10px',\n",
        "            'boxShadow': '0px 4px 8px rgba(0, 0, 0, 0.1)',\n",
        "            'flex': '1 1 300px',\n",
        "            'height': '100px',\n",
        "            'minWidth': '150px',\n",
        "            'maxWidth': '250px'\n",
        "        }, children=[\n",
        "            dcc.Graph(figure=estoque, config={'displayModeBar': False}, style={'height': '100%'})\n",
        "        ]),\n",
        "\n",
        "\n",
        "        html.Div(style={\n",
        "            'backgroundColor': 'rgba(255, 255, 255, 0.01)',\n",
        "            'borderRadius':'20px',\n",
        "            'padding': '10px',\n",
        "            'boxShadow': '0px 4px 8px rgba(0, 0, 0, 0.1)',\n",
        "            'flex': '1 1 300px',\n",
        "            'height': '100px',\n",
        "            'minWidth': '150px',\n",
        "            'maxWidth': '250px'\n",
        "        }, children=[\n",
        "            dcc.Graph(figure=clientes, config={'displayModeBar': False}, style={'height': '100%'})\n",
        "    ]),\n",
        "\n",
        "    html.Div(style={'display': 'flex', 'justifyContent': 'center', 'flexWrap': 'wrap', 'gap': '20px'}, children=[\n",
        "        html.Div(style={\n",
        "            'backgroundColor': 'rgba(255, 255, 255, 0.05)',\n",
        "            'borderRadius':'20px',\n",
        "            'padding': '10px',\n",
        "            'boxShadow': '0px 4px 8px rgba(0, 0, 0, 0.2)',\n",
        "            'flex': '1 1 400px',\n",
        "            'minWidth': '300px',\n",
        "            'maxWidth': '450px',\n",
        "            'height': '340px'\n",
        "        }, children=[dcc.Graph(figure=mais_vendidos, config={'displayModeBar':False}, style={'height': '100%'})\n",
        "        ]),\n",
        "\n",
        "        html.Div(style={\n",
        "            'backgroundColor': 'rgba(255, 255, 255, 0.05)',\n",
        "            'borderRadius':'20px',\n",
        "            'padding': '10px',\n",
        "            'boxShadow': '0px 4px 8px rgba(0, 0, 0, 0.2)',\n",
        "            'flex': '1 1 400px',\n",
        "            'minWidth': '300px',\n",
        "            'maxWidth': '450px',\n",
        "            'height': '340px'\n",
        "        }, children=[dcc.Graph(figure=vendas_mes, config={'displayModeBar':False}, style={'height': '100%'})\n",
        "        ])\n",
        "    ]),\n",
        "\n",
        "    html.Div(style={'display': 'flex', 'justifyContent': 'center', 'flexWrap': 'wrap', 'gap':'20px'}, children=[\n",
        "        html.Div(style={\n",
        "            'backgroundColor': 'rgba(255, 255, 255, 0.05)',\n",
        "            'borderRadius':'20px',\n",
        "            'padding': '10px',\n",
        "            'boxShadow': '0px 4px 8px rgba(0, 0, 0, 0.2)',\n",
        "            'flex': '1 1 400px',\n",
        "            'minWidth': '300px',\n",
        "            'maxWidth': '450px',\n",
        "            'height': '340px'\n",
        "        }, children=[dcc.Graph(figure=vendas_categoria, config={'displayModeBar':False}, style={'height': '100%'})\n",
        "        ]),\n",
        "        html.Div(style={\n",
        "            'backgroundColor': 'rgba(255, 255, 255, 0.05)',\n",
        "            'borderRadius':'20px',\n",
        "            'padding': '10px',\n",
        "            'boxShadow': '0px 4px 8px rgba(0, 0, 0, 0.2)',\n",
        "            'flex': '1 1 400px',\n",
        "            'minWidth': '300px',\n",
        "            'maxWidth': '450px',\n",
        "            'height': '340px'\n",
        "        }, children=[dcc.Graph(figure=tipo_cliente, config={'displayModeBar':False}, style={'height': '100%'})\n",
        "        ])\n",
        "    ])\n",
        "])\n",
        "])\n",
        "\n",
        "#Executando app\n",
        "if __name__ == '__main__':\n",
        "  from google.colab import output\n",
        "  output.serve_kernel_port_as_window(8050)\n",
        "  app.run(debug=True, port=8050)"
      ],
      "metadata": {
        "id": "O1vAriuM_YyM"
      },
      "execution_count": null,
      "outputs": []
    }
  ]
}